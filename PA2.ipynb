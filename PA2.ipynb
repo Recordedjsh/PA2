{
 "cells": [
  {
   "cell_type": "markdown",
   "id": "ecf9c6d7",
   "metadata": {},
   "source": [
    "# Programming Assignment 2\n",
    "## Jackson Hay\n",
    "### Fall 2023"
   ]
  },
  {
   "cell_type": "code",
   "execution_count": 84,
   "id": "147282f4",
   "metadata": {},
   "outputs": [
    {
     "name": "stdout",
     "output_type": "stream",
     "text": [
      "Name: Jackson Hay Age: 19 Height: 178 Color: Red\n"
     ]
    }
   ],
   "source": [
    "name=\"Jackson Hay\"\n",
    "age=\"19\"\n",
    "height=\"178\"\n",
    "color=\"Red\"\n",
    "print(f\"Name: {name} Age: {age} Height: {height} Color: {color}\")"
   ]
  },
  {
   "cell_type": "code",
   "execution_count": 85,
   "id": "c9734ea5",
   "metadata": {},
   "outputs": [
    {
     "name": "stdout",
     "output_type": "stream",
     "text": [
      "The temperature is 0, which is 32.0\n"
     ]
    }
   ],
   "source": [
    "celsius_temp=0\n",
    "print(f\"The temperature is {celsius_temp}, which is {celsius_temp*1.8+32}\")"
   ]
  },
  {
   "cell_type": "code",
   "execution_count": 24,
   "id": "c332d6e5",
   "metadata": {},
   "outputs": [
    {
     "name": "stdout",
     "output_type": "stream",
     "text": [
      "141\n",
      "33\n",
      "4698\n",
      "1.6111111111111112\n"
     ]
    }
   ],
   "source": [
    "num1=87\n",
    "num2=54\n",
    "print(num1 + num2)\n",
    "print(num1 - num2)\n",
    "print(num1 * num2)\n",
    "print(num1 / num2)"
   ]
  },
  {
   "cell_type": "code",
   "execution_count": 38,
   "id": "bdad355e",
   "metadata": {},
   "outputs": [],
   "source": [
    "quote=\" Three can keep a secret, if two of them are dead.\""
   ]
  },
  {
   "cell_type": "code",
   "execution_count": 39,
   "id": "0d27bde3",
   "metadata": {},
   "outputs": [
    {
     "name": "stdout",
     "output_type": "stream",
     "text": [
      "50\n"
     ]
    }
   ],
   "source": [
    "print(len(quote))"
   ]
  },
  {
   "cell_type": "code",
   "execution_count": 40,
   "id": "2e080633",
   "metadata": {},
   "outputs": [
    {
     "name": "stdout",
     "output_type": "stream",
     "text": [
      " three can keep a secret, if two of them are dead.\n"
     ]
    }
   ],
   "source": [
    "print(quote.lower())"
   ]
  },
  {
   "cell_type": "code",
   "execution_count": 41,
   "id": "ea428bcb",
   "metadata": {},
   "outputs": [
    {
     "name": "stdout",
     "output_type": "stream",
     "text": [
      " THREE CAN KEEP A SECRET, IF TWO OF THEM ARE DEAD.\n"
     ]
    }
   ],
   "source": [
    "print(quote.upper())"
   ]
  },
  {
   "cell_type": "code",
   "execution_count": 42,
   "id": "7fd1d7aa",
   "metadata": {},
   "outputs": [
    {
     "name": "stdout",
     "output_type": "stream",
     "text": [
      "Three can keep a secret, if two of them are dead.\n"
     ]
    }
   ],
   "source": [
    "print(quote.strip())"
   ]
  },
  {
   "cell_type": "code",
   "execution_count": 44,
   "id": "f0c68bde",
   "metadata": {},
   "outputs": [
    {
     "name": "stdout",
     "output_type": "stream",
     "text": [
      "['Three', 'can', 'keep', 'a', 'secret,', 'if', 'two', 'of', 'them', 'are', 'dead.']\n"
     ]
    }
   ],
   "source": [
    "print(quote.split())"
   ]
  },
  {
   "cell_type": "code",
   "execution_count": 86,
   "id": "d134a399",
   "metadata": {},
   "outputs": [
    {
     "name": "stdout",
     "output_type": "stream",
     "text": [
      "Enter 2 numbers separated by a space\n",
      "8 54\n",
      "62\n",
      "-46\n",
      "432\n",
      "0.14814814814814814\n"
     ]
    }
   ],
   "source": [
    "prompt = input(\"Enter 2 numbers separated by a space\\n\")\n",
    "prompt = prompt.split()\n",
    "\n",
    "inum1 = int(prompt[0])\n",
    "inum2 =int(prompt[1])\n",
    "\n",
    "print(inum1 + inum2)\n",
    "print(inum1 - inum2)\n",
    "print(inum1 * inum2)\n",
    "print(inum1 / inum2)"
   ]
  }
 ],
 "metadata": {
  "kernelspec": {
   "display_name": "Python 3 (ipykernel)",
   "language": "python",
   "name": "python3"
  },
  "language_info": {
   "codemirror_mode": {
    "name": "ipython",
    "version": 3
   },
   "file_extension": ".py",
   "mimetype": "text/x-python",
   "name": "python",
   "nbconvert_exporter": "python",
   "pygments_lexer": "ipython3",
   "version": "3.11.4"
  }
 },
 "nbformat": 4,
 "nbformat_minor": 5
}
